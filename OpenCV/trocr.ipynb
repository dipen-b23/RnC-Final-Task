{
 "cells": [
  {
   "cell_type": "code",
   "execution_count": null,
   "id": "44680bc4",
   "metadata": {},
   "outputs": [],
   "source": [
    "import torch\n",
    "from ultralytics import YOLO\n",
    "from transformers import TrOCRProcessor, VisionEncoderDecoderModel\n",
    "from PIL import Image\n",
    "import cv2\n",
    "\n",
    "# Load YOLO model (trained for text detection ideally)\n",
    "yolo_model = YOLO(\"best.pt\")  # Replace with your text detection model\n",
    "\n",
    "# Load TrOCR model\n",
    "processor = TrOCRProcessor.from_pretrained(\"microsoft/trocr-base-stage1\",use_fast=True)\n",
    "ocr_model = VisionEncoderDecoderModel.from_pretrained(\"microsoft/trocr-base-stage1\")\n",
    "\n",
    "device = \"cuda\" if torch.cuda.is_available() else \"cpu\"\n",
    "ocr_model.to(device)\n",
    "\n",
    "# Function to read text with TrOCR\n",
    "def read_text_with_trocr(image):\n",
    "    pixel_values = processor(images=image, return_tensors=\"pt\").pixel_values.to(device)\n",
    "    generated_ids = ocr_model.generate(pixel_values)\n",
    "    generated_text = processor.batch_decode(generated_ids, skip_special_tokens=True)[0]\n",
    "    return generated_text\n",
    "\n",
    "# Load a single image\n",
    "image_path = \"goal.png\"  # Your image file path\n",
    "frame = cv2.imread(image_path)\n",
    "\n",
    "# YOLO detection\n",
    "results = yolo_model(frame)\n",
    "\n",
    "# Process detections\n",
    "for r in results[0].boxes.xyxy:\n",
    "    x1, y1, x2, y2 = map(int, r)\n",
    "    crop = frame[y1:y2, x1:x2]\n",
    "\n",
    "    # Convert crop to PIL Image for TrOCR\n",
    "    pil_img = Image.fromarray(cv2.cvtColor(crop, cv2.COLOR_BGR2RGB))\n",
    "\n",
    "    # OCR with TrOCR\n",
    "    text = read_text_with_trocr(pil_img)\n",
    "\n",
    "    # Draw results on the image\n",
    "    cv2.rectangle(frame, (x1, y1), (x2, y2), (0, 255, 0), 2)\n",
    "    cv2.putText(frame, text, (x1, y1 - 10),\n",
    "                cv2.FONT_HERSHEY_SIMPLEX, 0.6, (0, 255, 0), 2)\n",
    "\n",
    "# Show output\n",
    "cv2.imshow(\"YOLO + TrOCR\", frame)\n",
    "cv2.waitKey(0)\n",
    "cv2.destroyAllWindows()\n"
   ]
  },
  {
   "cell_type": "code",
   "execution_count": null,
   "id": "07580b0b",
   "metadata": {},
   "outputs": [],
   "source": []
  }
 ],
 "metadata": {
  "kernelspec": {
   "display_name": "Python 3 (ipykernel)",
   "language": "python",
   "name": "python3"
  },
  "language_info": {
   "codemirror_mode": {
    "name": "ipython",
    "version": 3
   },
   "file_extension": ".py",
   "mimetype": "text/x-python",
   "name": "python",
   "nbconvert_exporter": "python",
   "pygments_lexer": "ipython3",
   "version": "3.10.12"
  }
 },
 "nbformat": 4,
 "nbformat_minor": 5
}
